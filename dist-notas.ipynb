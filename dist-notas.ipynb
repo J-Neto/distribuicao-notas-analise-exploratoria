{
 "cells": [
  {
   "cell_type": "code",
   "execution_count": null,
   "metadata": {},
   "outputs": [],
   "source": [
    "print('Hello World')"
   ]
  }
 ],
 "metadata": {
  "interpreter": {
   "hash": "55128abfc1447969f5f1cfd6609eb5d0bfc8e1dee92b55f29e7bdf6e134191bc"
  },
  "kernelspec": {
   "display_name": "Python 3.9.7 ('base')",
   "language": "python",
   "name": "python3"
  },
  "language_info": {
   "name": "python",
   "version": "3.9.7"
  },
  "orig_nbformat": 4
 },
 "nbformat": 4,
 "nbformat_minor": 2
}
